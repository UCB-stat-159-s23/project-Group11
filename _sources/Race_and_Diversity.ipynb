{
 "cells": [
  {
   "cell_type": "markdown",
   "metadata": {
    "tags": [
     "remove-cell"
    ]
   },
   "source": [
    "## Performing Exploratory Data Analysis for Student Retention"
   ]
  },
  {
   "cell_type": "code",
   "execution_count": null,
   "metadata": {
    "tags": [
     "remove-cell"
    ]
   },
   "outputs": [],
   "source": [
    "import matplotlib.pyplot as plt\n",
    "import numpy as np\n",
    "import seaborn as sns\n",
    "import pandas as pd\n",
    "import scipy.stats as stats\n",
    "\n",
    "from tools.utils import combine_columns, compute_feature_importance"
   ]
  },
  {
   "cell_type": "code",
   "execution_count": null,
   "metadata": {
    "tags": [
     "remove-cell"
    ]
   },
   "outputs": [
    {
     "data": {
      "text/html": [
       "<div>\n",
       "<style scoped>\n",
       "    .dataframe tbody tr th:only-of-type {\n",
       "        vertical-align: middle;\n",
       "    }\n",
       "\n",
       "    .dataframe tbody tr th {\n",
       "        vertical-align: top;\n",
       "    }\n",
       "\n",
       "    .dataframe thead th {\n",
       "        text-align: right;\n",
       "    }\n",
       "</style>\n",
       "<table border=\"1\" class=\"dataframe\">\n",
       "  <thead>\n",
       "    <tr style=\"text-align: right;\">\n",
       "      <th></th>\n",
       "      <th>UNITID</th>\n",
       "      <th>INSTNM</th>\n",
       "      <th>CITY</th>\n",
       "      <th>HIGHDEG</th>\n",
       "      <th>CONTROL</th>\n",
       "      <th>ST_FIPS</th>\n",
       "      <th>REGION</th>\n",
       "      <th>LOCALE</th>\n",
       "      <th>LOCALE2</th>\n",
       "      <th>CCUGPROF</th>\n",
       "      <th>...</th>\n",
       "      <th>MD_FAMINC</th>\n",
       "      <th>FAMINC_IND</th>\n",
       "      <th>MN_EARN_WNE_P10</th>\n",
       "      <th>UGDS_MEN</th>\n",
       "      <th>UGDS_WOMEN</th>\n",
       "      <th>GRADS</th>\n",
       "      <th>RET_FT4_POOLED</th>\n",
       "      <th>RET_FTL4_POOLED</th>\n",
       "      <th>PRGMOFR</th>\n",
       "      <th>ADMCON7</th>\n",
       "    </tr>\n",
       "  </thead>\n",
       "  <tbody>\n",
       "    <tr>\n",
       "      <th>0</th>\n",
       "      <td>100654</td>\n",
       "      <td>Alabama A &amp; M University</td>\n",
       "      <td>Normal</td>\n",
       "      <td>4</td>\n",
       "      <td>1</td>\n",
       "      <td>1</td>\n",
       "      <td>5</td>\n",
       "      <td>12.0</td>\n",
       "      <td>NaN</td>\n",
       "      <td>10.0</td>\n",
       "      <td>...</td>\n",
       "      <td>23553</td>\n",
       "      <td>10340.346032</td>\n",
       "      <td>35500</td>\n",
       "      <td>0.3978</td>\n",
       "      <td>0.6022</td>\n",
       "      <td>884.0</td>\n",
       "      <td>0.5533</td>\n",
       "      <td>NaN</td>\n",
       "      <td>NaN</td>\n",
       "      <td>1.0</td>\n",
       "    </tr>\n",
       "    <tr>\n",
       "      <th>1</th>\n",
       "      <td>100663</td>\n",
       "      <td>University of Alabama at Birmingham</td>\n",
       "      <td>Birmingham</td>\n",
       "      <td>4</td>\n",
       "      <td>1</td>\n",
       "      <td>1</td>\n",
       "      <td>5</td>\n",
       "      <td>12.0</td>\n",
       "      <td>NaN</td>\n",
       "      <td>9.0</td>\n",
       "      <td>...</td>\n",
       "      <td>34489</td>\n",
       "      <td>30607.18029</td>\n",
       "      <td>48400</td>\n",
       "      <td>0.3816</td>\n",
       "      <td>0.6184</td>\n",
       "      <td>8685.0</td>\n",
       "      <td>0.8477</td>\n",
       "      <td>NaN</td>\n",
       "      <td>NaN</td>\n",
       "      <td>1.0</td>\n",
       "    </tr>\n",
       "    <tr>\n",
       "      <th>2</th>\n",
       "      <td>100690</td>\n",
       "      <td>Amridge University</td>\n",
       "      <td>Montgomery</td>\n",
       "      <td>4</td>\n",
       "      <td>2</td>\n",
       "      <td>1</td>\n",
       "      <td>5</td>\n",
       "      <td>12.0</td>\n",
       "      <td>NaN</td>\n",
       "      <td>5.0</td>\n",
       "      <td>...</td>\n",
       "      <td>15033.5</td>\n",
       "      <td>20596.158491</td>\n",
       "      <td>47600</td>\n",
       "      <td>0.2886</td>\n",
       "      <td>0.7114</td>\n",
       "      <td>477.0</td>\n",
       "      <td>0.5000</td>\n",
       "      <td>NaN</td>\n",
       "      <td>NaN</td>\n",
       "      <td>NaN</td>\n",
       "    </tr>\n",
       "    <tr>\n",
       "      <th>3</th>\n",
       "      <td>100706</td>\n",
       "      <td>University of Alabama in Huntsville</td>\n",
       "      <td>Huntsville</td>\n",
       "      <td>4</td>\n",
       "      <td>1</td>\n",
       "      <td>1</td>\n",
       "      <td>5</td>\n",
       "      <td>12.0</td>\n",
       "      <td>NaN</td>\n",
       "      <td>15.0</td>\n",
       "      <td>...</td>\n",
       "      <td>44787</td>\n",
       "      <td>27941.821963</td>\n",
       "      <td>52000</td>\n",
       "      <td>0.5891</td>\n",
       "      <td>0.4109</td>\n",
       "      <td>1972.0</td>\n",
       "      <td>0.8234</td>\n",
       "      <td>NaN</td>\n",
       "      <td>NaN</td>\n",
       "      <td>1.0</td>\n",
       "    </tr>\n",
       "    <tr>\n",
       "      <th>4</th>\n",
       "      <td>100724</td>\n",
       "      <td>Alabama State University</td>\n",
       "      <td>Montgomery</td>\n",
       "      <td>4</td>\n",
       "      <td>1</td>\n",
       "      <td>1</td>\n",
       "      <td>5</td>\n",
       "      <td>12.0</td>\n",
       "      <td>NaN</td>\n",
       "      <td>10.0</td>\n",
       "      <td>...</td>\n",
       "      <td>22080.5</td>\n",
       "      <td>8551.802974</td>\n",
       "      <td>30600</td>\n",
       "      <td>0.3605</td>\n",
       "      <td>0.6395</td>\n",
       "      <td>458.0</td>\n",
       "      <td>0.6164</td>\n",
       "      <td>NaN</td>\n",
       "      <td>NaN</td>\n",
       "      <td>1.0</td>\n",
       "    </tr>\n",
       "  </tbody>\n",
       "</table>\n",
       "<p>5 rows × 76 columns</p>\n",
       "</div>"
      ],
      "text/plain": [
       "   UNITID                               INSTNM        CITY  HIGHDEG  CONTROL  \\\n",
       "0  100654             Alabama A & M University      Normal        4        1   \n",
       "1  100663  University of Alabama at Birmingham  Birmingham        4        1   \n",
       "2  100690                   Amridge University  Montgomery        4        2   \n",
       "3  100706  University of Alabama in Huntsville  Huntsville        4        1   \n",
       "4  100724             Alabama State University  Montgomery        4        1   \n",
       "\n",
       "   ST_FIPS  REGION  LOCALE  LOCALE2  CCUGPROF  ...  MD_FAMINC    FAMINC_IND  \\\n",
       "0        1       5    12.0      NaN      10.0  ...      23553  10340.346032   \n",
       "1        1       5    12.0      NaN       9.0  ...      34489   30607.18029   \n",
       "2        1       5    12.0      NaN       5.0  ...    15033.5  20596.158491   \n",
       "3        1       5    12.0      NaN      15.0  ...      44787  27941.821963   \n",
       "4        1       5    12.0      NaN      10.0  ...    22080.5   8551.802974   \n",
       "\n",
       "   MN_EARN_WNE_P10  UGDS_MEN  UGDS_WOMEN   GRADS  RET_FT4_POOLED  \\\n",
       "0            35500    0.3978      0.6022   884.0          0.5533   \n",
       "1            48400    0.3816      0.6184  8685.0          0.8477   \n",
       "2            47600    0.2886      0.7114   477.0          0.5000   \n",
       "3            52000    0.5891      0.4109  1972.0          0.8234   \n",
       "4            30600    0.3605      0.6395   458.0          0.6164   \n",
       "\n",
       "   RET_FTL4_POOLED  PRGMOFR  ADMCON7  \n",
       "0              NaN      NaN      1.0  \n",
       "1              NaN      NaN      1.0  \n",
       "2              NaN      NaN      NaN  \n",
       "3              NaN      NaN      1.0  \n",
       "4              NaN      NaN      1.0  \n",
       "\n",
       "[5 rows x 76 columns]"
      ]
     },
     "metadata": {},
     "output_type": "display_data"
    }
   ],
   "source": [
    "# Load in cleaned data\n",
    "data = pd.read_csv(\"data/Most-Recent-Cohorts-Institution-filtered.csv\")\n",
    "data = data.drop('Unnamed: 0', axis=1)"
   ]
  },
  {
   "cell_type": "code",
   "execution_count": null,
   "metadata": {
    "tags": [
     "remove-cell"
    ]
   },
   "outputs": [],
   "source": [
    "four_yr_retention = data.RET_FT4\n",
    "less_four_yr_retention = data.RET_FTL4"
   ]
  },
  {
   "cell_type": "markdown",
   "metadata": {},
   "source": [
    "## Race"
   ]
  },
  {
   "cell_type": "code",
   "execution_count": null,
   "metadata": {},
   "outputs": [
    {
     "data": {
      "text/html": [
       "<div>\n",
       "<style scoped>\n",
       "    .dataframe tbody tr th:only-of-type {\n",
       "        vertical-align: middle;\n",
       "    }\n",
       "\n",
       "    .dataframe tbody tr th {\n",
       "        vertical-align: top;\n",
       "    }\n",
       "\n",
       "    .dataframe thead th {\n",
       "        text-align: right;\n",
       "    }\n",
       "</style>\n",
       "<table border=\"1\" class=\"dataframe\">\n",
       "  <thead>\n",
       "    <tr style=\"text-align: right;\">\n",
       "      <th></th>\n",
       "      <th>RET_FT4</th>\n",
       "      <th>RET_FTL4</th>\n",
       "      <th>UGDS_WHITE</th>\n",
       "      <th>UGDS_BLACK</th>\n",
       "      <th>UGDS_HISP</th>\n",
       "      <th>UGDS_ASIAN</th>\n",
       "      <th>UGDS_AIAN</th>\n",
       "      <th>UGDS_NHPI</th>\n",
       "      <th>UGDS_2MOR</th>\n",
       "      <th>UGDS_NRA</th>\n",
       "      <th>UGDS_UNKN</th>\n",
       "    </tr>\n",
       "  </thead>\n",
       "  <tbody>\n",
       "    <tr>\n",
       "      <th>0</th>\n",
       "      <td>0.5403</td>\n",
       "      <td>NaN</td>\n",
       "      <td>0.0159</td>\n",
       "      <td>0.9022</td>\n",
       "      <td>0.0116</td>\n",
       "      <td>0.0012</td>\n",
       "      <td>0.0028</td>\n",
       "      <td>0.0008</td>\n",
       "      <td>0.0143</td>\n",
       "      <td>0.0073</td>\n",
       "      <td>0.0440</td>\n",
       "    </tr>\n",
       "    <tr>\n",
       "      <th>1</th>\n",
       "      <td>0.8640</td>\n",
       "      <td>NaN</td>\n",
       "      <td>0.5496</td>\n",
       "      <td>0.2401</td>\n",
       "      <td>0.0610</td>\n",
       "      <td>0.0704</td>\n",
       "      <td>0.0024</td>\n",
       "      <td>0.0004</td>\n",
       "      <td>0.0469</td>\n",
       "      <td>0.0232</td>\n",
       "      <td>0.0059</td>\n",
       "    </tr>\n",
       "    <tr>\n",
       "      <th>2</th>\n",
       "      <td>0.5000</td>\n",
       "      <td>NaN</td>\n",
       "      <td>0.2550</td>\n",
       "      <td>0.6913</td>\n",
       "      <td>0.0268</td>\n",
       "      <td>0.0034</td>\n",
       "      <td>0.0000</td>\n",
       "      <td>0.0000</td>\n",
       "      <td>0.0000</td>\n",
       "      <td>0.0000</td>\n",
       "      <td>0.0235</td>\n",
       "    </tr>\n",
       "    <tr>\n",
       "      <th>3</th>\n",
       "      <td>0.8180</td>\n",
       "      <td>NaN</td>\n",
       "      <td>0.7173</td>\n",
       "      <td>0.0907</td>\n",
       "      <td>0.0599</td>\n",
       "      <td>0.0354</td>\n",
       "      <td>0.0083</td>\n",
       "      <td>0.0010</td>\n",
       "      <td>0.0431</td>\n",
       "      <td>0.0190</td>\n",
       "      <td>0.0252</td>\n",
       "    </tr>\n",
       "    <tr>\n",
       "      <th>4</th>\n",
       "      <td>0.6202</td>\n",
       "      <td>NaN</td>\n",
       "      <td>0.0167</td>\n",
       "      <td>0.9265</td>\n",
       "      <td>0.0130</td>\n",
       "      <td>0.0019</td>\n",
       "      <td>0.0017</td>\n",
       "      <td>0.0017</td>\n",
       "      <td>0.0119</td>\n",
       "      <td>0.0155</td>\n",
       "      <td>0.0111</td>\n",
       "    </tr>\n",
       "  </tbody>\n",
       "</table>\n",
       "</div>"
      ],
      "text/plain": [
       "   RET_FT4  RET_FTL4  UGDS_WHITE  UGDS_BLACK  UGDS_HISP  UGDS_ASIAN  \\\n",
       "0   0.5403       NaN      0.0159      0.9022     0.0116      0.0012   \n",
       "1   0.8640       NaN      0.5496      0.2401     0.0610      0.0704   \n",
       "2   0.5000       NaN      0.2550      0.6913     0.0268      0.0034   \n",
       "3   0.8180       NaN      0.7173      0.0907     0.0599      0.0354   \n",
       "4   0.6202       NaN      0.0167      0.9265     0.0130      0.0019   \n",
       "\n",
       "   UGDS_AIAN  UGDS_NHPI  UGDS_2MOR  UGDS_NRA  UGDS_UNKN  \n",
       "0     0.0028     0.0008     0.0143    0.0073     0.0440  \n",
       "1     0.0024     0.0004     0.0469    0.0232     0.0059  \n",
       "2     0.0000     0.0000     0.0000    0.0000     0.0235  \n",
       "3     0.0083     0.0010     0.0431    0.0190     0.0252  \n",
       "4     0.0017     0.0017     0.0119    0.0155     0.0111  "
      ]
     },
     "metadata": {},
     "output_type": "display_data"
    }
   ],
   "source": [
    "race_data = data[['RET_FT4', 'RET_FTL4', 'UGDS_WHITE', 'UGDS_BLACK', 'UGDS_HISP', 'UGDS_ASIAN',\n",
    "                   'UGDS_AIAN', 'UGDS_NHPI', 'UGDS_2MOR', 'UGDS_NRA', 'UGDS_UNKN']]\n",
    "race_data.head()"
   ]
  },
  {
   "cell_type": "markdown",
   "metadata": {},
   "source": [
    "These columns provide information on the racial and ethnic diversity of undergraduate, degree-seeking students in a particular institutions. \n",
    "\n",
    "* white (UGDS_WHITE)\n",
    "\n",
    "* black (UGDS_BLACK)\n",
    "\n",
    "* Hispanic (UGDS_HISP)\n",
    "\n",
    "* Asian (UGDS_ASIAN)\n",
    "\n",
    "* American Indian/Alaska Native (UGDS_AIAN)\n",
    "\n",
    "* Native Hawaiian/Pacific Islander (UGDS_NHPI)\n",
    "\n",
    "* two or more races (UGDS_2MOR)\n",
    "\n",
    "* non-resident aliens (UGDS_NRA)\n",
    "\n",
    "* unknown (UGDS_UNKN)"
   ]
  },
  {
   "cell_type": "markdown",
   "metadata": {},
   "source": [
    "In this project we use the **Simpson's Diversity Index** to describe the Racial and Ethnic diversity of professions schools in the United States. \n",
    "\n",
    "$$1 - \\sum_{i=1}^{n} p_i^2$$ "
   ]
  },
  {
   "cell_type": "code",
   "execution_count": null,
   "metadata": {},
   "outputs": [
    {
     "name": "stderr",
     "output_type": "stream",
     "text": [
      "/tmp/ipykernel_10401/1615568326.py:1: SettingWithCopyWarning: \n",
      "A value is trying to be set on a copy of a slice from a DataFrame.\n",
      "Try using .loc[row_indexer,col_indexer] = value instead\n",
      "\n",
      "See the caveats in the documentation: https://pandas.pydata.org/pandas-docs/stable/user_guide/indexing.html#returning-a-view-versus-a-copy\n",
      "  race_data['diversity_index'] = 1 - race_data.iloc[:, 2:].apply(lambda row: row**2, axis=1).sum(axis=1)\n"
     ]
    },
    {
     "data": {
      "text/html": [
       "<div>\n",
       "<style scoped>\n",
       "    .dataframe tbody tr th:only-of-type {\n",
       "        vertical-align: middle;\n",
       "    }\n",
       "\n",
       "    .dataframe tbody tr th {\n",
       "        vertical-align: top;\n",
       "    }\n",
       "\n",
       "    .dataframe thead th {\n",
       "        text-align: right;\n",
       "    }\n",
       "</style>\n",
       "<table border=\"1\" class=\"dataframe\">\n",
       "  <thead>\n",
       "    <tr style=\"text-align: right;\">\n",
       "      <th></th>\n",
       "      <th>RET_FT4</th>\n",
       "      <th>RET_FTL4</th>\n",
       "      <th>UGDS_WHITE</th>\n",
       "      <th>UGDS_BLACK</th>\n",
       "      <th>UGDS_HISP</th>\n",
       "      <th>UGDS_ASIAN</th>\n",
       "      <th>UGDS_AIAN</th>\n",
       "      <th>UGDS_NHPI</th>\n",
       "      <th>UGDS_2MOR</th>\n",
       "      <th>UGDS_NRA</th>\n",
       "      <th>UGDS_UNKN</th>\n",
       "      <th>diversity_index</th>\n",
       "    </tr>\n",
       "  </thead>\n",
       "  <tbody>\n",
       "    <tr>\n",
       "      <th>0</th>\n",
       "      <td>0.5403</td>\n",
       "      <td>NaN</td>\n",
       "      <td>0.0159</td>\n",
       "      <td>0.9022</td>\n",
       "      <td>0.0116</td>\n",
       "      <td>0.0012</td>\n",
       "      <td>0.0028</td>\n",
       "      <td>0.0008</td>\n",
       "      <td>0.0143</td>\n",
       "      <td>0.0073</td>\n",
       "      <td>0.0440</td>\n",
       "      <td>0.183444</td>\n",
       "    </tr>\n",
       "    <tr>\n",
       "      <th>1</th>\n",
       "      <td>0.8640</td>\n",
       "      <td>NaN</td>\n",
       "      <td>0.5496</td>\n",
       "      <td>0.2401</td>\n",
       "      <td>0.0610</td>\n",
       "      <td>0.0704</td>\n",
       "      <td>0.0024</td>\n",
       "      <td>0.0004</td>\n",
       "      <td>0.0469</td>\n",
       "      <td>0.0232</td>\n",
       "      <td>0.0059</td>\n",
       "      <td>0.628836</td>\n",
       "    </tr>\n",
       "    <tr>\n",
       "      <th>2</th>\n",
       "      <td>0.5000</td>\n",
       "      <td>NaN</td>\n",
       "      <td>0.2550</td>\n",
       "      <td>0.6913</td>\n",
       "      <td>0.0268</td>\n",
       "      <td>0.0034</td>\n",
       "      <td>0.0000</td>\n",
       "      <td>0.0000</td>\n",
       "      <td>0.0000</td>\n",
       "      <td>0.0000</td>\n",
       "      <td>0.0235</td>\n",
       "      <td>0.455797</td>\n",
       "    </tr>\n",
       "    <tr>\n",
       "      <th>3</th>\n",
       "      <td>0.8180</td>\n",
       "      <td>NaN</td>\n",
       "      <td>0.7173</td>\n",
       "      <td>0.0907</td>\n",
       "      <td>0.0599</td>\n",
       "      <td>0.0354</td>\n",
       "      <td>0.0083</td>\n",
       "      <td>0.0010</td>\n",
       "      <td>0.0431</td>\n",
       "      <td>0.0190</td>\n",
       "      <td>0.0252</td>\n",
       "      <td>0.469490</td>\n",
       "    </tr>\n",
       "    <tr>\n",
       "      <th>4</th>\n",
       "      <td>0.6202</td>\n",
       "      <td>NaN</td>\n",
       "      <td>0.0167</td>\n",
       "      <td>0.9265</td>\n",
       "      <td>0.0130</td>\n",
       "      <td>0.0019</td>\n",
       "      <td>0.0017</td>\n",
       "      <td>0.0017</td>\n",
       "      <td>0.0119</td>\n",
       "      <td>0.0155</td>\n",
       "      <td>0.0111</td>\n",
       "      <td>0.140635</td>\n",
       "    </tr>\n",
       "  </tbody>\n",
       "</table>\n",
       "</div>"
      ],
      "text/plain": [
       "   RET_FT4  RET_FTL4  UGDS_WHITE  UGDS_BLACK  UGDS_HISP  UGDS_ASIAN  \\\n",
       "0   0.5403       NaN      0.0159      0.9022     0.0116      0.0012   \n",
       "1   0.8640       NaN      0.5496      0.2401     0.0610      0.0704   \n",
       "2   0.5000       NaN      0.2550      0.6913     0.0268      0.0034   \n",
       "3   0.8180       NaN      0.7173      0.0907     0.0599      0.0354   \n",
       "4   0.6202       NaN      0.0167      0.9265     0.0130      0.0019   \n",
       "\n",
       "   UGDS_AIAN  UGDS_NHPI  UGDS_2MOR  UGDS_NRA  UGDS_UNKN  diversity_index  \n",
       "0     0.0028     0.0008     0.0143    0.0073     0.0440         0.183444  \n",
       "1     0.0024     0.0004     0.0469    0.0232     0.0059         0.628836  \n",
       "2     0.0000     0.0000     0.0000    0.0000     0.0235         0.455797  \n",
       "3     0.0083     0.0010     0.0431    0.0190     0.0252         0.469490  \n",
       "4     0.0017     0.0017     0.0119    0.0155     0.0111         0.140635  "
      ]
     },
     "metadata": {},
     "output_type": "display_data"
    }
   ],
   "source": [
    "race_data['diversity_index'] = 1 - race_data.iloc[:, 2:].apply(lambda row: row**2, axis=1).sum(axis=1)\n",
    "race_data.head()"
   ]
  },
  {
   "cell_type": "code",
   "execution_count": null,
   "metadata": {},
   "outputs": [],
   "source": [
    "FT4_institutions = race_data[race_data['RET_FT4'].notnull()][['RET_FT4', 'diversity_index']]\n",
    "FTL4_institutions = race_data[race_data['RET_FTL4'].notnull()][['RET_FTL4', 'diversity_index']]"
   ]
  },
  {
   "cell_type": "code",
   "execution_count": null,
   "metadata": {},
   "outputs": [
    {
     "data": {
      "text/html": [
       "<div>\n",
       "<style scoped>\n",
       "    .dataframe tbody tr th:only-of-type {\n",
       "        vertical-align: middle;\n",
       "    }\n",
       "\n",
       "    .dataframe tbody tr th {\n",
       "        vertical-align: top;\n",
       "    }\n",
       "\n",
       "    .dataframe thead th {\n",
       "        text-align: right;\n",
       "    }\n",
       "</style>\n",
       "<table border=\"1\" class=\"dataframe\">\n",
       "  <thead>\n",
       "    <tr style=\"text-align: right;\">\n",
       "      <th></th>\n",
       "      <th>RET_FT4</th>\n",
       "      <th>diversity_index</th>\n",
       "    </tr>\n",
       "  </thead>\n",
       "  <tbody>\n",
       "    <tr>\n",
       "      <th>0</th>\n",
       "      <td>0.5403</td>\n",
       "      <td>0.183444</td>\n",
       "    </tr>\n",
       "    <tr>\n",
       "      <th>1</th>\n",
       "      <td>0.8640</td>\n",
       "      <td>0.628836</td>\n",
       "    </tr>\n",
       "    <tr>\n",
       "      <th>2</th>\n",
       "      <td>0.5000</td>\n",
       "      <td>0.455797</td>\n",
       "    </tr>\n",
       "    <tr>\n",
       "      <th>3</th>\n",
       "      <td>0.8180</td>\n",
       "      <td>0.469490</td>\n",
       "    </tr>\n",
       "    <tr>\n",
       "      <th>4</th>\n",
       "      <td>0.6202</td>\n",
       "      <td>0.140635</td>\n",
       "    </tr>\n",
       "  </tbody>\n",
       "</table>\n",
       "</div>"
      ],
      "text/plain": [
       "   RET_FT4  diversity_index\n",
       "0   0.5403         0.183444\n",
       "1   0.8640         0.628836\n",
       "2   0.5000         0.455797\n",
       "3   0.8180         0.469490\n",
       "4   0.6202         0.140635"
      ]
     },
     "metadata": {},
     "output_type": "display_data"
    }
   ],
   "source": [
    "FT4_institutions.head()"
   ]
  },
  {
   "cell_type": "code",
   "execution_count": null,
   "metadata": {},
   "outputs": [
    {
     "data": {
      "text/html": [
       "<div>\n",
       "<style scoped>\n",
       "    .dataframe tbody tr th:only-of-type {\n",
       "        vertical-align: middle;\n",
       "    }\n",
       "\n",
       "    .dataframe tbody tr th {\n",
       "        vertical-align: top;\n",
       "    }\n",
       "\n",
       "    .dataframe thead th {\n",
       "        text-align: right;\n",
       "    }\n",
       "</style>\n",
       "<table border=\"1\" class=\"dataframe\">\n",
       "  <thead>\n",
       "    <tr style=\"text-align: right;\">\n",
       "      <th></th>\n",
       "      <th>RET_FTL4</th>\n",
       "      <th>diversity_index</th>\n",
       "    </tr>\n",
       "  </thead>\n",
       "  <tbody>\n",
       "    <tr>\n",
       "      <th>6</th>\n",
       "      <td>0.5915</td>\n",
       "      <td>0.430426</td>\n",
       "    </tr>\n",
       "    <tr>\n",
       "      <th>11</th>\n",
       "      <td>0.5538</td>\n",
       "      <td>0.661073</td>\n",
       "    </tr>\n",
       "    <tr>\n",
       "      <th>13</th>\n",
       "      <td>0.5961</td>\n",
       "      <td>0.588972</td>\n",
       "    </tr>\n",
       "    <tr>\n",
       "      <th>14</th>\n",
       "      <td>0.5449</td>\n",
       "      <td>0.527717</td>\n",
       "    </tr>\n",
       "    <tr>\n",
       "      <th>16</th>\n",
       "      <td>0.5357</td>\n",
       "      <td>0.478832</td>\n",
       "    </tr>\n",
       "  </tbody>\n",
       "</table>\n",
       "</div>"
      ],
      "text/plain": [
       "    RET_FTL4  diversity_index\n",
       "6     0.5915         0.430426\n",
       "11    0.5538         0.661073\n",
       "13    0.5961         0.588972\n",
       "14    0.5449         0.527717\n",
       "16    0.5357         0.478832"
      ]
     },
     "metadata": {},
     "output_type": "display_data"
    }
   ],
   "source": [
    "FTL4_institutions.head()"
   ]
  },
  {
   "cell_type": "markdown",
   "metadata": {},
   "source": [
    "Descriptive Summary Statistics"
   ]
  },
  {
   "cell_type": "code",
   "execution_count": null,
   "metadata": {},
   "outputs": [
    {
     "data": {
      "text/plain": [
       "0.5035307974807692"
      ]
     },
     "metadata": {},
     "output_type": "display_data"
    }
   ],
   "source": [
    "# four-year institutions\n",
    "FT4_institutions['RET_FT4'].mean()\n",
    "FT4_institutions['diversity_index'].mean()"
   ]
  },
  {
   "cell_type": "code",
   "execution_count": null,
   "metadata": {},
   "outputs": [
    {
     "data": {
      "text/plain": [
       "0.47995730161071665"
      ]
     },
     "metadata": {},
     "output_type": "display_data"
    }
   ],
   "source": [
    "# less-than-four-year institutions\n",
    "FTL4_institutions['RET_FTL4'].mean()\n",
    "FTL4_institutions['diversity_index'].mean()"
   ]
  },
  {
   "cell_type": "markdown",
   "metadata": {},
   "source": [
    "#### Four-year institutions\n",
    "\n",
    "When you have two massive continuous data and you want to visualize their relationship, you can use a scatter plot. Scatter plots are useful for visualizing the relationship between two continuous variables. Each data point is plotted as a point on the graph, with one variable on the x-axis and the other on the y-axis.\n",
    "\n",
    "However, if you have a large number of data points, a scatter plot can become overcrowded and difficult to interpret. In such cases, you can use a 2D density plot. These plots provide a way to visualize the distribution of the data while reducing the clutter caused by overlapping points in a scatter plot. A 2D density plot creates a smoothed representation of the data by estimating the density of points in different regions of the plot.\n",
    "\n",
    "* $H_0:$ There is no relationship between the retension rate and diversity index at four-year institutions. \n",
    "\n",
    "* $H_1:$ There is no relationship between the retension rate and diversity index at four-year institutions. "
   ]
  },
  {
   "cell_type": "code",
   "execution_count": null,
   "metadata": {},
   "outputs": [
    {
     "name": "stdout",
     "output_type": "stream",
     "text": [
      "-0.012020871881703171 0.583742479083747\n"
     ]
    }
   ],
   "source": [
    "corr, p_value = stats.pearsonr(FT4_institutions['diversity_index'], FT4_institutions['RET_FT4'])\n",
    "print(corr, p_value)"
   ]
  },
  {
   "cell_type": "code",
   "execution_count": null,
   "metadata": {},
   "outputs": [
    {
     "data": {
      "image/png": "[encoded data removed]",
      "text/plain": [
       "<Figure size 600x600 with 3 Axes>"
      ]
     },
     "metadata": {},
     "output_type": "display_data"
    }
   ],
   "source": [
    "f = sns.jointplot(data=FT4_institutions, x='diversity_index', y='RET_FT4', kind='kde', fill='b')\n",
    "f.ax_joint.annotate(f'corr: {corr:.2f}, p-value: {p_value:.2f}', xy=(0,1.1))\n",
    "plt.savefig('figures/RET_FT4_diversity.png');"
   ]
  },
  {
   "cell_type": "markdown",
   "metadata": {},
   "source": [
    "**The p-value is around 0.58, which is very large. This means that we can conclude that there is no relationship between retention rate and diversity index at four-year institutions.**"
   ]
  },
  {
   "cell_type": "markdown",
   "metadata": {},
   "source": [
    "#### Less than four-year institutions\n",
    "\n",
    "* $H_0:$ There is no relationship between the retension rate and diversity index at less-than-four-year institutions. \n",
    "\n",
    "* $H_1:$ There is no relationship between the retension rate and diversity index at less-than-four-year institutions. "
   ]
  },
  {
   "cell_type": "code",
   "execution_count": null,
   "metadata": {},
   "outputs": [
    {
     "name": "stdout",
     "output_type": "stream",
     "text": [
      "-0.08259689032835084 4.15791895176101e-06\n"
     ]
    }
   ],
   "source": [
    "corr, p_value = stats.pearsonr(FTL4_institutions['diversity_index'], FTL4_institutions['RET_FTL4'])\n",
    "print(corr, p_value)"
   ]
  },
  {
   "cell_type": "code",
   "execution_count": null,
   "metadata": {},
   "outputs": [
    {
     "data": {
      "image/png": "[encoded data removed]",
      "text/plain": [
       "<Figure size 600x600 with 3 Axes>"
      ]
     },
     "metadata": {},
     "output_type": "display_data"
    }
   ],
   "source": [
    "g = sns.jointplot(data=FTL4_institutions, x='diversity_index', y='RET_FTL4', kind='kde', fill='b')\n",
    "g.ax_joint.annotate(f'corr: {corr:.2f}, p-value: {p_value:.2e}', xy=(0,1.1))\n",
    "plt.savefig('figures/RET_FTL4_diversity.png');"
   ]
  },
  {
   "cell_type": "markdown",
   "metadata": {},
   "source": [
    "**The p-value is very small. This means that we can conclude that there is a relationship between retention rate and diversity index at less-than-four-year institutions.**"
   ]
  }
 ],
 "metadata": {
  "kernelspec": {
   "display_name": "Python 3 (ipykernel)",
   "language": "python",
   "name": "python3"
  },
  "language_info": {
   "codemirror_mode": {
    "name": "ipython",
    "version": 3
   },
   "file_extension": ".py",
   "mimetype": "text/x-python",
   "name": "python",
   "nbconvert_exporter": "python",
   "pygments_lexer": "ipython3",
   "version": "3.10.8"
  }
 },
 "nbformat": 4,
 "nbformat_minor": 2
}
