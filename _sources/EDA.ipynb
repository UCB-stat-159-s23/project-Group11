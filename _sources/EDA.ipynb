{
 "cells": [
  {
   "cell_type": "markdown",
   "id": "3f739d5f-4be1-474e-986d-4ac0480988d6",
   "metadata": {
    "user_expressions": []
   },
   "source": [
    "# Performing Exploratory Data Analysis for Student Retention"
   ]
  },
  {
   "cell_type": "code",
   "execution_count": 29,
   "id": "ddd37a65-7f0b-4846-b572-9ec34ac9e7a1",
   "metadata": {},
   "outputs": [],
   "source": [
    "import matplotlib.pyplot as plt\n",
    "import numpy as np\n",
    "import seaborn as sns\n",
    "import pandas as pd\n",
    "\n",
    "# Prep plotting aesthetics\n",
    "# Set font size names\n",
    "SMALL_SIZE = 14\n",
    "MEDIUM_SIZE = 16\n",
    "# Set font sizes\n",
    "plt.rc('font', size=SMALL_SIZE)          # controls default text sizes\n",
    "plt.rc('axes', titlesize=MEDIUM_SIZE)    # fontsize of the axes title\n",
    "plt.rc('axes', labelsize=MEDIUM_SIZE)    # fontsize of the x and y labels\n",
    "plt.rc('xtick', labelsize=SMALL_SIZE)    # fontsize of the tick labels\n",
    "plt.rc('ytick', labelsize=SMALL_SIZE)    # fontsize of the tick labels\n",
    "plt.rc('legend', fontsize=SMALL_SIZE)    # legend fontsize\n",
    "plt.rc('figure', titlesize=MEDIUM_SIZE)  # fontsize of the figure title\n",
    "# Set figure size\n",
    "plt.rcParams[\"figure.figsize\"] = (14, 8) # size of the figure plotted"
   ]
  },
  {
   "cell_type": "markdown",
   "id": "93d18ca6-d5ee-4c31-9bf0-5f0aad134a56",
   "metadata": {
    "user_expressions": []
   },
   "source": [
    "### Loading in Data"
   ]
  },
  {
   "cell_type": "code",
   "execution_count": 30,
   "id": "6262259d-1535-4f3c-bfda-31ba74c8df1c",
   "metadata": {},
   "outputs": [
    {
     "data": {
      "text/html": [
       "<div>\n",
       "<style scoped>\n",
       "    .dataframe tbody tr th:only-of-type {\n",
       "        vertical-align: middle;\n",
       "    }\n",
       "\n",
       "    .dataframe tbody tr th {\n",
       "        vertical-align: top;\n",
       "    }\n",
       "\n",
       "    .dataframe thead th {\n",
       "        text-align: right;\n",
       "    }\n",
       "</style>\n",
       "<table border=\"1\" class=\"dataframe\">\n",
       "  <thead>\n",
       "    <tr style=\"text-align: right;\">\n",
       "      <th></th>\n",
       "      <th>Unnamed: 0</th>\n",
       "      <th>UNITID</th>\n",
       "      <th>INSTNM</th>\n",
       "      <th>CITY</th>\n",
       "      <th>HIGHDEG</th>\n",
       "      <th>CONTROL</th>\n",
       "      <th>ST_FIPS</th>\n",
       "      <th>REGION</th>\n",
       "      <th>LOCALE</th>\n",
       "      <th>LOCALE2</th>\n",
       "      <th>...</th>\n",
       "      <th>MD_FAMINC</th>\n",
       "      <th>FAMINC_IND</th>\n",
       "      <th>MN_EARN_WNE_P10</th>\n",
       "      <th>UGDS_MEN</th>\n",
       "      <th>UGDS_WOMEN</th>\n",
       "      <th>GRADS</th>\n",
       "      <th>RET_FT4_POOLED</th>\n",
       "      <th>RET_FTL4_POOLED</th>\n",
       "      <th>PRGMOFR</th>\n",
       "      <th>ADMCON7</th>\n",
       "    </tr>\n",
       "  </thead>\n",
       "  <tbody>\n",
       "    <tr>\n",
       "      <th>0</th>\n",
       "      <td>0</td>\n",
       "      <td>100654</td>\n",
       "      <td>Alabama A &amp; M University</td>\n",
       "      <td>Normal</td>\n",
       "      <td>4</td>\n",
       "      <td>1</td>\n",
       "      <td>1</td>\n",
       "      <td>5</td>\n",
       "      <td>12.0</td>\n",
       "      <td>NaN</td>\n",
       "      <td>...</td>\n",
       "      <td>23553</td>\n",
       "      <td>10340.346032</td>\n",
       "      <td>35500</td>\n",
       "      <td>0.3978</td>\n",
       "      <td>0.6022</td>\n",
       "      <td>884.0</td>\n",
       "      <td>0.5533</td>\n",
       "      <td>NaN</td>\n",
       "      <td>NaN</td>\n",
       "      <td>1.0</td>\n",
       "    </tr>\n",
       "    <tr>\n",
       "      <th>1</th>\n",
       "      <td>1</td>\n",
       "      <td>100663</td>\n",
       "      <td>University of Alabama at Birmingham</td>\n",
       "      <td>Birmingham</td>\n",
       "      <td>4</td>\n",
       "      <td>1</td>\n",
       "      <td>1</td>\n",
       "      <td>5</td>\n",
       "      <td>12.0</td>\n",
       "      <td>NaN</td>\n",
       "      <td>...</td>\n",
       "      <td>34489</td>\n",
       "      <td>30607.18029</td>\n",
       "      <td>48400</td>\n",
       "      <td>0.3816</td>\n",
       "      <td>0.6184</td>\n",
       "      <td>8685.0</td>\n",
       "      <td>0.8477</td>\n",
       "      <td>NaN</td>\n",
       "      <td>NaN</td>\n",
       "      <td>1.0</td>\n",
       "    </tr>\n",
       "    <tr>\n",
       "      <th>2</th>\n",
       "      <td>2</td>\n",
       "      <td>100690</td>\n",
       "      <td>Amridge University</td>\n",
       "      <td>Montgomery</td>\n",
       "      <td>4</td>\n",
       "      <td>2</td>\n",
       "      <td>1</td>\n",
       "      <td>5</td>\n",
       "      <td>12.0</td>\n",
       "      <td>NaN</td>\n",
       "      <td>...</td>\n",
       "      <td>15033.5</td>\n",
       "      <td>20596.158491</td>\n",
       "      <td>47600</td>\n",
       "      <td>0.2886</td>\n",
       "      <td>0.7114</td>\n",
       "      <td>477.0</td>\n",
       "      <td>0.5000</td>\n",
       "      <td>NaN</td>\n",
       "      <td>NaN</td>\n",
       "      <td>NaN</td>\n",
       "    </tr>\n",
       "    <tr>\n",
       "      <th>3</th>\n",
       "      <td>3</td>\n",
       "      <td>100706</td>\n",
       "      <td>University of Alabama in Huntsville</td>\n",
       "      <td>Huntsville</td>\n",
       "      <td>4</td>\n",
       "      <td>1</td>\n",
       "      <td>1</td>\n",
       "      <td>5</td>\n",
       "      <td>12.0</td>\n",
       "      <td>NaN</td>\n",
       "      <td>...</td>\n",
       "      <td>44787</td>\n",
       "      <td>27941.821963</td>\n",
       "      <td>52000</td>\n",
       "      <td>0.5891</td>\n",
       "      <td>0.4109</td>\n",
       "      <td>1972.0</td>\n",
       "      <td>0.8234</td>\n",
       "      <td>NaN</td>\n",
       "      <td>NaN</td>\n",
       "      <td>1.0</td>\n",
       "    </tr>\n",
       "    <tr>\n",
       "      <th>4</th>\n",
       "      <td>4</td>\n",
       "      <td>100724</td>\n",
       "      <td>Alabama State University</td>\n",
       "      <td>Montgomery</td>\n",
       "      <td>4</td>\n",
       "      <td>1</td>\n",
       "      <td>1</td>\n",
       "      <td>5</td>\n",
       "      <td>12.0</td>\n",
       "      <td>NaN</td>\n",
       "      <td>...</td>\n",
       "      <td>22080.5</td>\n",
       "      <td>8551.802974</td>\n",
       "      <td>30600</td>\n",
       "      <td>0.3605</td>\n",
       "      <td>0.6395</td>\n",
       "      <td>458.0</td>\n",
       "      <td>0.6164</td>\n",
       "      <td>NaN</td>\n",
       "      <td>NaN</td>\n",
       "      <td>1.0</td>\n",
       "    </tr>\n",
       "  </tbody>\n",
       "</table>\n",
       "<p>5 rows × 77 columns</p>\n",
       "</div>"
      ],
      "text/plain": [
       "   Unnamed: 0  UNITID                               INSTNM        CITY  \\\n",
       "0           0  100654             Alabama A & M University      Normal   \n",
       "1           1  100663  University of Alabama at Birmingham  Birmingham   \n",
       "2           2  100690                   Amridge University  Montgomery   \n",
       "3           3  100706  University of Alabama in Huntsville  Huntsville   \n",
       "4           4  100724             Alabama State University  Montgomery   \n",
       "\n",
       "   HIGHDEG  CONTROL  ST_FIPS  REGION  LOCALE  LOCALE2  ...  MD_FAMINC  \\\n",
       "0        4        1        1       5    12.0      NaN  ...      23553   \n",
       "1        4        1        1       5    12.0      NaN  ...      34489   \n",
       "2        4        2        1       5    12.0      NaN  ...    15033.5   \n",
       "3        4        1        1       5    12.0      NaN  ...      44787   \n",
       "4        4        1        1       5    12.0      NaN  ...    22080.5   \n",
       "\n",
       "     FAMINC_IND  MN_EARN_WNE_P10  UGDS_MEN  UGDS_WOMEN   GRADS  \\\n",
       "0  10340.346032            35500    0.3978      0.6022   884.0   \n",
       "1   30607.18029            48400    0.3816      0.6184  8685.0   \n",
       "2  20596.158491            47600    0.2886      0.7114   477.0   \n",
       "3  27941.821963            52000    0.5891      0.4109  1972.0   \n",
       "4   8551.802974            30600    0.3605      0.6395   458.0   \n",
       "\n",
       "   RET_FT4_POOLED  RET_FTL4_POOLED  PRGMOFR  ADMCON7  \n",
       "0          0.5533              NaN      NaN      1.0  \n",
       "1          0.8477              NaN      NaN      1.0  \n",
       "2          0.5000              NaN      NaN      NaN  \n",
       "3          0.8234              NaN      NaN      1.0  \n",
       "4          0.6164              NaN      NaN      1.0  \n",
       "\n",
       "[5 rows x 77 columns]"
      ]
     },
     "execution_count": 30,
     "metadata": {},
     "output_type": "execute_result"
    }
   ],
   "source": [
    "# Load in cleaned data\n",
    "data = pd.read_csv(\"data/Most-Recent-Cohorts-Institution-filtered.csv\")\n",
    "\n",
    "data.head()"
   ]
  },
  {
   "attachments": {
    "18a96820-8a44-40d3-8ba2-c30b84df031e.png": {
     "image/png": "[encoded data removed]"
    },
    "18bed46b-8632-4164-b564-ad0c60f6c2dc.png": {
     "image/png": "[encoded data removed]"
    },
    "557a9a2b-597f-4494-91d8-18dc4631966b.png": {
     "image/png": "[encoded data removed]"
    },
    "715dc6b2-346d-4739-a0d8-5e6151970ded.png": {
     "image/png": "[encoded data removed]"
    },
    "7e0c8437-a7f3-4c12-b13c-af07dd51e7c7.png": {
     "image/png": "[encoded data removed]"
    },
    "b573b5a9-50d7-4ef8-8433-170c675fe957.png": {
     "image/png": "[encoded data removed]"
    },
    "cd78d0f6-fcd0-4060-9799-e8c1cfb62a13.png": {
     "image/png": "[encoded data removed]"
    },
    "f8edea80-9fcc-42a0-be7c-2b88bb0cea83.png": {
     "image/png": "[encoded data removed]"
    }
   },
   "cell_type": "markdown",
   "id": "381a48c3-e2c4-42ad-bc1e-012be395c67d",
   "metadata": {
    "user_expressions": []
   },
   "source": [
    "Since we are focusing on retention rates, we are renaming the variable names for the \"First-time, full-time student retention rate at four-year institutions\" and \"First-time, full-time student retention rate at less-than-four-year institutions\" in order to improve identification of the main variables."
   ]
  },
  {
   "cell_type": "code",
   "execution_count": 33,
   "id": "ea4722e2-e4c7-4d6e-b667-47e3c5575b5d",
   "metadata": {},
   "outputs": [],
   "source": [
    "# First-time, full-time student retention rate at four-year institutions\n",
    "four_yr_retention = data.RET_FT4\n",
    "\n",
    "# First-time, full-time student retention rate at less-than-four-year institutions\n",
    "less_four_yr_retention = data.RET_FTL4"
   ]
  },
  {
   "cell_type": "markdown",
   "id": "6cf9c59e-f089-48ac-b02c-1b16c5972211",
   "metadata": {
    "tags": [],
    "user_expressions": []
   },
   "source": [
    "### Histograms for Retention Rates"
   ]
  },
  {
   "cell_type": "code",
   "execution_count": 40,
   "id": "ac929cb9-8c44-4f09-8781-33975fc59a99",
   "metadata": {},
   "outputs": [
    {
     "data": {
      "image/png": "[encoded data removed]",
      "text/plain": [
       "<Figure size 1400x800 with 2 Axes>"
      ]
     },
     "metadata": {},
     "output_type": "display_data"
    },
    {
     "data": {
      "text/plain": [
       "<Figure size 1400x800 with 0 Axes>"
      ]
     },
     "metadata": {},
     "output_type": "display_data"
    }
   ],
   "source": [
    "fig, (ax1, ax2) = plt.subplots(1, 2)\n",
    "fig.suptitle('Retention Rates')\n",
    "\n",
    "ax1.set_title('Retention Rate at 4-year institutions')\n",
    "ax1.hist(four_yr_retention, density = True)\n",
    "\n",
    "ax2.set_title('Retention Rate at less than 4-year institutions')\n",
    "ax2.hist(less_four_yr_retention, density = True)\n",
    "\n",
    "plt.show()\n",
    "plt.savefig('figures/figure_1.png')"
   ]
  },
  {
   "cell_type": "markdown",
   "id": "b576db49-d5d4-4827-93a4-c9f3c8187d82",
   "metadata": {
    "user_expressions": []
   },
   "source": [
    "Based on the histograms, we notice that retention rates for both 4-year and less than 4-year institutions appear to have a left-skewed distribution. However, less than 4-year institutions has more density contained within the higher retention rates compared to the 4-year institutions."
   ]
  },
  {
   "cell_type": "code",
   "execution_count": null,
   "id": "34fabf4c-145d-4e12-a81c-0f5829e73797",
   "metadata": {},
   "outputs": [],
   "source": []
  },
  {
   "cell_type": "code",
   "execution_count": null,
   "id": "eb72d33b-8397-44e7-8106-ec862cc2e6b7",
   "metadata": {},
   "outputs": [],
   "source": []
  }
 ],
 "metadata": {
  "kernelspec": {
   "display_name": "Python 3 (ipykernel)",
   "language": "python",
   "name": "python3"
  },
  "language_info": {
   "codemirror_mode": {
    "name": "ipython",
    "version": 3
   },
   "file_extension": ".py",
   "mimetype": "text/x-python",
   "name": "python",
   "nbconvert_exporter": "python",
   "pygments_lexer": "ipython3",
   "version": "3.10.8"
  }
 },
 "nbformat": 4,
 "nbformat_minor": 5
}
